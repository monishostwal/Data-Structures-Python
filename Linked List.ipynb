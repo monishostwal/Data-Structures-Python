{
 "cells": [
  {
   "cell_type": "markdown",
   "metadata": {},
   "source": [
    "# Finding middle element to linked list\n",
    "Given a singly linked list of N nodes. The task is to find middle of the linked list."
   ]
  },
  {
   "cell_type": "code",
   "execution_count": 4,
   "metadata": {},
   "outputs": [],
   "source": [
    "from math import ceil\n",
    "def findMid(head):\n",
    "    temp=head\n",
    "    count=0\n",
    "    while(temp!=None):\n",
    "        count+=1\n",
    "        temp=temp.next\n",
    "    index=ceil(count//2)\n",
    "    count=0\n",
    "    temp=head\n",
    "    while(count!=index):\n",
    "        count+=1\n",
    "        temp=temp.next\n",
    "    return temp"
   ]
  },
  {
   "cell_type": "markdown",
   "metadata": {},
   "source": [
    "# Nth node from end of linked list\n",
    "Given a linked list consisting of L nodes and given a number N. The task is to find the Nth node from the end of the linked list."
   ]
  },
  {
   "cell_type": "code",
   "execution_count": 5,
   "metadata": {},
   "outputs": [],
   "source": [
    "def getNthfromEnd(head,n):\n",
    "    current=head\n",
    "    temp=head\n",
    "    count=0\n",
    "    while(count!=n):\n",
    "        if(temp==None):\n",
    "            return -1\n",
    "        temp=temp.next\n",
    "        count+=1\n",
    "    while(temp!=None):\n",
    "        temp=temp.next\n",
    "        current=current.next\n",
    "    return current.data\n",
    "    "
   ]
  },
  {
   "cell_type": "markdown",
   "metadata": {},
   "source": [
    "# Rotate the linked list\n",
    "Given a singly linked list of size N. The task is to rotate the linked list counter-clockwise by k nodes, where k is a given positive integer smaller than or equal to length of the linked list."
   ]
  },
  {
   "cell_type": "code",
   "execution_count": 6,
   "metadata": {},
   "outputs": [],
   "source": [
    "def rotateList(head, k):\n",
    "    first=head\n",
    "    temp=head\n",
    "    while(temp.next!=None):\n",
    "        temp=temp.next\n",
    "    last=temp\n",
    "    temp=head\n",
    "    i=0\n",
    "    while(i!=k-1 and temp.next!=None):\n",
    "        i+=1\n",
    "        temp=temp.next\n",
    "   \n",
    "    if(i!=k-1 or temp.next==None):\n",
    "        return head\n",
    "    else:\n",
    "        head=temp.next\n",
    "        last.next=first\n",
    "        temp.next=None\n",
    "        return head"
   ]
  },
  {
   "cell_type": "markdown",
   "metadata": {},
   "source": [
    "# Reverse a Linked List\n",
    "Given a linked list of N nodes. The task is to reverse this list."
   ]
  },
  {
   "cell_type": "code",
   "execution_count": 7,
   "metadata": {},
   "outputs": [],
   "source": [
    "def reverseList(self):\n",
    "    # Code here\n",
    "    if self.head is None:\n",
    "        return None\n",
    "    else:\n",
    "        prev=None\n",
    "        current=head\n",
    "        while(current):\n",
    "            next=current.next\n",
    "            current.next=prev\n",
    "  \n",
    "            prev=current\n",
    "            current=next\n",
    "        self.head=prev"
   ]
  },
  {
   "cell_type": "markdown",
   "metadata": {},
   "source": [
    "# Check if Linked List is Palindrome\n",
    "Given a singly linked list of size N of integers. The task is to check if the given linked list is palindrome or not."
   ]
  },
  {
   "cell_type": "code",
   "execution_count": 8,
   "metadata": {},
   "outputs": [],
   "source": [
    "def isPalindrome(head):\n",
    "    #code here\n",
    "    stack=[]\n",
    "    current=head\n",
    "    while(current!=None):\n",
    "        stack.insert(0,current.data)\n",
    "        current=current.next\n",
    "    current=head\n",
    "    while(current!=None):\n",
    "        if(current.data==stack[0]):\n",
    "            val=stack.pop(0)\n",
    "            current=current.next\n",
    "        else:\n",
    "            return 0\n",
    "    return 1"
   ]
  },
  {
   "cell_type": "markdown",
   "metadata": {},
   "source": [
    "# Check Palindrome\n",
    "Given a linked list of N nodes. The task is to check if the the linked list has a loop. Linked list can contain self loop."
   ]
  },
  {
   "cell_type": "code",
   "execution_count": 1,
   "metadata": {},
   "outputs": [],
   "source": [
    "def detectLoop(head):\n",
    "    #code here\n",
    "    slow=head\n",
    "    fast=head\n",
    "    while(1):\n",
    "        current=head.next\n",
    "        \n",
    "        try:\n",
    "            slow=slow.next\n",
    "            fast=fast.next.next\n",
    "        except:\n",
    "            return False\n",
    "        if(slow==fast):\n",
    "            return True\n",
    "    \n",
    "       "
   ]
  },
  {
   "cell_type": "code",
   "execution_count": null,
   "metadata": {},
   "outputs": [],
   "source": []
  }
 ],
 "metadata": {
  "kernelspec": {
   "display_name": "Python 3",
   "language": "python",
   "name": "python3"
  },
  "language_info": {
   "codemirror_mode": {
    "name": "ipython",
    "version": 3
   },
   "file_extension": ".py",
   "mimetype": "text/x-python",
   "name": "python",
   "nbconvert_exporter": "python",
   "pygments_lexer": "ipython3",
   "version": "3.7.3"
  }
 },
 "nbformat": 4,
 "nbformat_minor": 2
}
