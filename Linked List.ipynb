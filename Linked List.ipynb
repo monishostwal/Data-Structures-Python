{
 "cells": [
  {
   "cell_type": "markdown",
   "metadata": {},
   "source": [
    "# Finding middle element to linked list\n",
    "Given a singly linked list of N nodes. The task is to find middle of the linked list."
   ]
  },
  {
   "cell_type": "code",
   "execution_count": 4,
   "metadata": {},
   "outputs": [],
   "source": [
    "from math import ceil\n",
    "def findMid(head):\n",
    "    temp=head\n",
    "    count=0\n",
    "    while(temp!=None):\n",
    "        count+=1\n",
    "        temp=temp.next\n",
    "    index=ceil(count//2)\n",
    "    count=0\n",
    "    temp=head\n",
    "    while(count!=index):\n",
    "        count+=1\n",
    "        temp=temp.next\n",
    "    return temp"
   ]
  },
  {
   "cell_type": "markdown",
   "metadata": {},
   "source": [
    "# Nth node from end of linked list\n",
    "Given a linked list consisting of L nodes and given a number N. The task is to find the Nth node from the end of the linked list."
   ]
  },
  {
   "cell_type": "code",
   "execution_count": 5,
   "metadata": {},
   "outputs": [],
   "source": [
    "def getNthfromEnd(head,n):\n",
    "    current=head\n",
    "    temp=head\n",
    "    count=0\n",
    "    while(count!=n):\n",
    "        if(temp==None):\n",
    "            return -1\n",
    "        temp=temp.next\n",
    "        count+=1\n",
    "    while(temp!=None):\n",
    "        temp=temp.next\n",
    "        current=current.next\n",
    "    return current.data\n",
    "    "
   ]
  },
  {
   "cell_type": "markdown",
   "metadata": {},
   "source": [
    "# Rotate the linked list\n",
    "Given a singly linked list of size N. The task is to rotate the linked list counter-clockwise by k nodes, where k is a given positive integer smaller than or equal to length of the linked list."
   ]
  },
  {
   "cell_type": "code",
   "execution_count": 6,
   "metadata": {},
   "outputs": [],
   "source": [
    "def rotateList(head, k):\n",
    "    first=head\n",
    "    temp=head\n",
    "    while(temp.next!=None):\n",
    "        temp=temp.next\n",
    "    last=temp\n",
    "    temp=head\n",
    "    i=0\n",
    "    while(i!=k-1 and temp.next!=None):\n",
    "        i+=1\n",
    "        temp=temp.next\n",
    "   \n",
    "    if(i!=k-1 or temp.next==None):\n",
    "        return head\n",
    "    else:\n",
    "        head=temp.next\n",
    "        last.next=first\n",
    "        temp.next=None\n",
    "        return head"
   ]
  },
  {
   "cell_type": "markdown",
   "metadata": {},
   "source": [
    "# Reverse a Linked List\n",
    "Given a linked list of N nodes. The task is to reverse this list."
   ]
  },
  {
   "cell_type": "code",
   "execution_count": 7,
   "metadata": {},
   "outputs": [],
   "source": [
    "def reverseList(self):\n",
    "    # Code here\n",
    "    if self.head is None:\n",
    "        return None\n",
    "    else:\n",
    "        prev=None\n",
    "        current=head\n",
    "        while(current):\n",
    "            next=current.next\n",
    "            current.next=prev\n",
    "  \n",
    "            prev=current\n",
    "            current=next\n",
    "        self.head=prev"
   ]
  },
  {
   "cell_type": "markdown",
   "metadata": {},
   "source": [
    "# Check if Linked List is Palindrome\n",
    "Given a singly linked list of size N of integers. The task is to check if the given linked list is palindrome or not."
   ]
  },
  {
   "cell_type": "code",
   "execution_count": 8,
   "metadata": {},
   "outputs": [],
   "source": [
    "def isPalindrome(head):\n",
    "    #code here\n",
    "    stack=[]\n",
    "    current=head\n",
    "    while(current!=None):\n",
    "        stack.insert(0,current.data)\n",
    "        current=current.next\n",
    "    current=head\n",
    "    while(current!=None):\n",
    "        if(current.data==stack[0]):\n",
    "            val=stack.pop(0)\n",
    "            current=current.next\n",
    "        else:\n",
    "            return 0\n",
    "    return 1"
   ]
  },
  {
   "cell_type": "markdown",
   "metadata": {},
   "source": [
    "# Check Palindrome\n",
    "Given a linked list of N nodes. The task is to check if the the linked list has a loop. Linked list can contain self loop."
   ]
  },
  {
   "cell_type": "code",
   "execution_count": 1,
   "metadata": {},
   "outputs": [],
   "source": [
    "def detectLoop(head):\n",
    "    #code here\n",
    "    slow=head\n",
    "    fast=head\n",
    "    while(1):\n",
    "        current=head.next\n",
    "        \n",
    "        try:\n",
    "            slow=slow.next\n",
    "            fast=fast.next.next\n",
    "        except:\n",
    "            return False\n",
    "        if(slow==fast):\n",
    "            return True\n",
    "    \n",
    "       "
   ]
  },
  {
   "cell_type": "markdown",
   "metadata": {},
   "source": [
    "# Merge two sorted linked lists\n",
    "Given two sorted linked lists consisting of N and M nodes respectively. The task is to merge both of the list (in-place) and return head of the merged list."
   ]
  },
  {
   "cell_type": "code",
   "execution_count": 2,
   "metadata": {},
   "outputs": [],
   "source": [
    "def merge(head_a,head_b):\n",
    "    final_lst=LinkedList()\n",
    "    \n",
    "    current1=head_a\n",
    "    current2=head_b\n",
    "    while(current1!=None and current2!=None):\n",
    "        if(current1.data<current2.data):\n",
    "            final_lst.append(current1.data)\n",
    "            current1=current1.next\n",
    "        else:\n",
    "            final_lst.append(current2.data)\n",
    "            current2=current2.next\n",
    "    \n",
    "    while(current1!=None):\n",
    "        final_lst.append(current1.data)\n",
    "        current1=current1.next\n",
    "    while(current2!=None):\n",
    "        final_lst.append(current2.data)\n",
    "        current2=current2.next\n",
    "    return final_lst.head"
   ]
  },
  {
   "cell_type": "markdown",
   "metadata": {},
   "source": [
    "# Given a linked list of 0s, 1s and 2s, sort it.\n",
    "Given a linked list of N nodes where nodes can contain values 0s, 1s and 2s only. The task is to segregate 0s, 1s and 2s linked list such that all zeros segregate to headside, 2s at the end of the linked list and 1s in the mid of 0s and 2s."
   ]
  },
  {
   "cell_type": "code",
   "execution_count": 2,
   "metadata": {},
   "outputs": [],
   "source": [
    "def segregate(head):\n",
    "    #code here\n",
    "    count = [0, 0, 0] \n",
    "  \n",
    "    ptr = head \n",
    "  \n",
    "        # count total number of '0', '1' and '2' \n",
    "        # * count[0] will store total number of '0's \n",
    "        # * count[1] will store total number of '1's \n",
    "        # * count[2] will store total number of '2's   \n",
    "    while ptr != None: \n",
    "        count[ptr.data]+=1\n",
    "        ptr = ptr.next\n",
    "\n",
    "    i = 0\n",
    "    ptr = head \n",
    "\n",
    "    # Let say count[0] = n1, count[1] = n2 and count[2] = n3 \n",
    "    # * now start traversing list from head node, \n",
    "    # * 1) fill the list with 0, till n1 > 0 \n",
    "    # * 2) fill the list with 1, till n2 > 0 \n",
    "    # * 3) fill the list with 2, till n3 > 0   \n",
    "    while ptr != None: \n",
    "        if count[i] == 0: \n",
    "            i+=1\n",
    "        else: \n",
    "            ptr.data = i \n",
    "            count[i]-=1\n",
    "            ptr = ptr.next\n",
    "    return head"
   ]
  },
  {
   "cell_type": "markdown",
   "metadata": {},
   "source": [
    "# Write a function that counts the number of times a given int occurs in a Linked List"
   ]
  },
  {
   "cell_type": "code",
   "execution_count": 2,
   "metadata": {},
   "outputs": [
    {
     "name": "stdout",
     "output_type": "stream",
     "text": [
      "count of 1 is  3\n"
     ]
    }
   ],
   "source": [
    "class Node: \n",
    "  \n",
    "    # Constructor to initialize the node object \n",
    "    def __init__(self, data): \n",
    "        self.data = data \n",
    "        self.next = None\n",
    "  \n",
    "class LinkedList: \n",
    "  \n",
    "    # Function to initialize head \n",
    "    def __init__(self): \n",
    "        self.head = None\n",
    "  \n",
    "    # Counts the no . of occurrences of a node \n",
    "    # (search_for) in a linked list (head) \n",
    "    def count(self, search_for): \n",
    "        current = self.head \n",
    "        count = 0\n",
    "        while(current is not None): \n",
    "            if current.data == search_for: \n",
    "                count += 1\n",
    "            current = current.next\n",
    "        return count \n",
    "  \n",
    "    # Function to insert a new node at the beginning \n",
    "    def push(self, new_data): \n",
    "        new_node = Node(new_data) \n",
    "        new_node.next = self.head \n",
    "        self.head = new_node \n",
    "  \n",
    "    # Utility function to print the linked LinkedList \n",
    "    def printList(self): \n",
    "        temp = self.head \n",
    "        while(temp): \n",
    "            print(temp.data), \n",
    "            temp = temp.next\n",
    "  \n",
    "  \n",
    "# Driver program \n",
    "llist = LinkedList() \n",
    "llist.push(1) \n",
    "llist.push(3) \n",
    "llist.push(1) \n",
    "llist.push(2) \n",
    "llist.push(1) \n",
    "  \n",
    "# Check for the count function \n",
    "print(\"count of 1 is % d\" %(llist.count(1))) \n",
    "  "
   ]
  },
  {
   "cell_type": "markdown",
   "metadata": {},
   "source": [
    "# Pairwise swap elements of a given linked list"
   ]
  },
  {
   "cell_type": "code",
   "execution_count": 3,
   "metadata": {},
   "outputs": [
    {
     "name": "stdout",
     "output_type": "stream",
     "text": [
      "Linked list before calling pairWiseSwap() \n",
      "1\n",
      "2\n",
      "3\n",
      "4\n",
      "5\n",
      "\n",
      "Linked list after calling pairWiseSwap()\n",
      "2\n",
      "1\n",
      "4\n",
      "3\n",
      "5\n"
     ]
    }
   ],
   "source": [
    "class Node: \n",
    "  \n",
    "    # Constructor to initialize the node object \n",
    "    def __init__(self, data): \n",
    "        self.data = data \n",
    "        self.next = None\n",
    "  \n",
    "class LinkedList: \n",
    "  \n",
    "    # Function to initialize head \n",
    "    def __init__(self): \n",
    "        self.head = None\n",
    "  \n",
    "    # Function to pairwise swap elements of a linked list \n",
    "    def pairwiseSwap(self): \n",
    "        temp = self.head \n",
    "         \n",
    "        # There are no nodes in linked list \n",
    "        if temp is None: \n",
    "            return \n",
    "          \n",
    "        # Traverse furthur only if there are at least two \n",
    "        # left \n",
    "        while(temp is not None and temp.next is not None): \n",
    "              \n",
    "            # If both nodes are same, \n",
    "            # no need to swap data \n",
    "            if(temp.data == temp.next.data): \n",
    "                  \n",
    "                # Move temp by 2 to the next pair \n",
    "                temp = temp.next.next\n",
    "            else: \n",
    "                  \n",
    "                # Swap data of node with its next node's data \n",
    "                temp.data, temp.next.data = temp.next.data, temp.data \n",
    "                  \n",
    "                # Move temp by 2 to the next pair \n",
    "                temp = temp.next.next\n",
    "         \n",
    "    # Function to insert a new node at the beginning \n",
    "    def push(self, new_data): \n",
    "        new_node = Node(new_data) \n",
    "        new_node.next = self.head \n",
    "        self.head = new_node \n",
    "  \n",
    "    # Utility function to prit the linked LinkedList \n",
    "    def printList(self): \n",
    "        temp = self.head \n",
    "        while(temp): \n",
    "            print(temp.data), \n",
    "            temp = temp.next\n",
    "  \n",
    "  \n",
    "# Driver program \n",
    "llist = LinkedList() \n",
    "llist.push(5) \n",
    "llist.push(4) \n",
    "llist.push(3) \n",
    "llist.push(2) \n",
    "llist.push(1) \n",
    "  \n",
    "print(\"Linked list before calling pairWiseSwap() \")\n",
    "llist.printList() \n",
    "  \n",
    "llist.pairwiseSwap() \n",
    "  \n",
    "print(\"\\nLinked list after calling pairWiseSwap()\")\n",
    "llist.printList() \n",
    "  "
   ]
  },
  {
   "cell_type": "code",
   "execution_count": null,
   "metadata": {},
   "outputs": [],
   "source": []
  }
 ],
 "metadata": {
  "kernelspec": {
   "display_name": "Python 3",
   "language": "python",
   "name": "python3"
  },
  "language_info": {
   "codemirror_mode": {
    "name": "ipython",
    "version": 3
   },
   "file_extension": ".py",
   "mimetype": "text/x-python",
   "name": "python",
   "nbconvert_exporter": "python",
   "pygments_lexer": "ipython3",
   "version": "3.7.6"
  }
 },
 "nbformat": 4,
 "nbformat_minor": 2
}
